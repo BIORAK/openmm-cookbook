{
 "metadata": {
  "name": ""
 },
 "nbformat": 3,
 "nbformat_minor": 0,
 "worksheets": [
  {
   "cells": [
    {
     "cell_type": "markdown",
     "metadata": {},
     "source": [
      "# Coulomb Particles\n",
      "\n",
      "#### In this example, we're going to set up a system of interating point charges \"by hand\", using the OpenMM API."
     ]
    },
    {
     "cell_type": "code",
     "collapsed": false,
     "input": [
      "import numpy as np\n",
      "from simtk import openmm as mm\n",
      "from simtk.openmm import app\n",
      "from simtk.unit import *"
     ],
     "language": "python",
     "metadata": {},
     "outputs": [],
     "prompt_number": 1
    },
    {
     "cell_type": "markdown",
     "metadata": {},
     "source": [
      "Set some constants. For this example, we want to set up a system with only coulomb interactions.\n",
      "The OpenMM NonbondedForce computes *both* the columb and LJ interaction, so to have a system\n",
      "containing only a coulomb force, we can simply set the LJ well depth parameter to zero.\n",
      "\n",
      "Mathematically, $ V_{LJ} = 4\\varepsilon \\left[ \\left(\\frac{\\sigma}{r}\\right)^{12} - \\left(\\frac{\\sigma}{r}\\right)^{6} \\right] $. Thus if $\\varepsilon=0$, then $V_{LJ} = 0$."
     ]
    },
    {
     "cell_type": "code",
     "collapsed": false,
     "input": [
      "N_PARTICLES = 3\n",
      "MASS        = 1.0*dalton\n",
      "CHARGE      = 1.0*elementary_charge\n",
      "LJ_SIGMA    = 1.0*nanometer\n",
      "LJ_EPSILON  = 0.0*kilojoule_per_mole"
     ],
     "language": "python",
     "metadata": {},
     "outputs": [],
     "prompt_number": 2
    },
    {
     "cell_type": "markdown",
     "metadata": {},
     "source": [
      "To get started, create a new `System` from scratch. The `System` object is basically a full description of the Hamiltonian of the physical system you'll be simulating. We have to tell the system first how many particles we'll be simulating, and what their masses are."
     ]
    },
    {
     "cell_type": "code",
     "collapsed": false,
     "input": [
      "system = mm.System()\n",
      "\n",
      "for i in range(N_PARTICLES):\n",
      "    system.addParticle(MASS)\n",
      "\n",
      "# In case you don't want to look up the documentation, you can get the help\n",
      "# text associated with each method like this.\n",
      "print(help(system.addParticle))"
     ],
     "language": "python",
     "metadata": {},
     "outputs": [
      {
       "output_type": "stream",
       "stream": "stdout",
       "text": [
        "Help on method addParticle in module simtk.openmm.openmm:\n",
        "\n",
        "addParticle(self, *args) method of simtk.openmm.openmm.System instance\n",
        "    addParticle(System self, double mass) -> int\n",
        "    \n",
        "    Add a particle to the System. If the mass is 0, Integrators will ignore the particle and not modify its position or velocity. This is most often used for virtual sites, but can also be used as a way to prevent a particle from moving.\n",
        "       Parameters:\n",
        "        - mass the mass of the particle (in atomic mass units)\n",
        "\n",
        "None\n"
       ]
      }
     ],
     "prompt_number": 3
    },
    {
     "cell_type": "markdown",
     "metadata": {},
     "source": [
      "Each `System` can _contain_ zero or more forces, which specify individual terms in the Hamiltonian. There are Forces for the bonded interactions, like `HarmonicBondForce`, the nonbonded interactions, etc.\n",
      "\n",
      "We'll add a NonbondedForce, which computes the coulomb and leonard jones interaction."
     ]
    },
    {
     "cell_type": "code",
     "collapsed": false,
     "input": [
      "force = mm.NonbondedForce()\n",
      "force.setNonbondedMethod(mm.NonbondedForce.NoCutoff)\n",
      "\n",
      "# The force needs to be told about the charge and leonard jones parameters for each of the particles\n",
      "for i in range(N_PARTICLES):\n",
      "    force.addParticle(CHARGE, LJ_SIGMA, LJ_EPSILON)\n",
      "\n",
      "# Now that we've created the force, we can add it to our system.\n",
      "system.addForce(force)"
     ],
     "language": "python",
     "metadata": {},
     "outputs": [
      {
       "metadata": {},
       "output_type": "pyout",
       "prompt_number": 4,
       "text": [
        "0"
       ]
      }
     ],
     "prompt_number": 4
    },
    {
     "cell_type": "markdown",
     "metadata": {},
     "source": [
      "OpenMM's XMLSerializer can take a System object and save a full description of it to XML. This is pretty useful just so we can check out what's in our system, to make sure our force looks right"
     ]
    },
    {
     "cell_type": "code",
     "collapsed": false,
     "input": [
      "print mm.XmlSerializer.serialize(system)"
     ],
     "language": "python",
     "metadata": {},
     "outputs": [
      {
       "output_type": "stream",
       "stream": "stdout",
       "text": [
        "<?xml version=\"1.0\" ?>\n",
        "<System type=\"System\" version=\"1\">\n",
        "\t<PeriodicBoxVectors>\n",
        "\t\t<A x=\"2\" y=\"0\" z=\"0\" />\n",
        "\t\t<B x=\"0\" y=\"2\" z=\"0\" />\n",
        "\t\t<C x=\"0\" y=\"0\" z=\"2\" />\n",
        "\t</PeriodicBoxVectors>\n",
        "\t<Particles>\n",
        "\t\t<Particle mass=\"1\" />\n",
        "\t\t<Particle mass=\"1\" />\n",
        "\t\t<Particle mass=\"1\" />\n",
        "\t</Particles>\n",
        "\t<Constraints />\n",
        "\t<Forces>\n",
        "\t\t<Force cutoff=\"1\" dispersionCorrection=\"1\" ewaldTolerance=\".0005\" method=\"0\" rfDielectric=\"78.3\" type=\"NonbondedForce\" version=\"1\">\n",
        "\t\t\t<Particles>\n",
        "\t\t\t\t<Particle eps=\"0\" q=\"1\" sig=\"1\" />\n",
        "\t\t\t\t<Particle eps=\"0\" q=\"1\" sig=\"1\" />\n",
        "\t\t\t\t<Particle eps=\"0\" q=\"1\" sig=\"1\" />\n",
        "\t\t\t</Particles>\n",
        "\t\t\t<Exceptions />\n",
        "\t\t</Force>\n",
        "\t</Forces>\n",
        "</System>\n",
        "\n"
       ]
      }
     ],
     "prompt_number": 5
    },
    {
     "cell_type": "markdown",
     "metadata": {},
     "source": [
      "To actually run our simulation, we two more things. The first is an integrator, which specifies some way to evolve the system over time. The second is a ``Context``.\n",
      "\n",
      "In OpenMM, the ``Context`` is a class that handles the actual device that we're running on. It manages the memory, and basically controls the actual physical instantiation of our system and integrator on specific hardware."
     ]
    },
    {
     "cell_type": "code",
     "collapsed": false,
     "input": [
      "integrator = mm.VerletIntegrator(0.002 * picosecond)\n",
      "context = mm.Context(system, integrator)\n",
      "print('Running on', context.getPlatform().getName())"
     ],
     "language": "python",
     "metadata": {},
     "outputs": [
      {
       "output_type": "stream",
       "stream": "stdout",
       "text": [
        "('Running on', 'CUDA')\n"
       ]
      }
     ],
     "prompt_number": 6
    },
    {
     "cell_type": "markdown",
     "metadata": {},
     "source": [
      "The ``System`` and ``Integrator`` don't actually know about any specific set of positions or velocity. But that is information that the context needs to know. Let's just give it some random positions"
     ]
    },
    {
     "cell_type": "code",
     "collapsed": false,
     "input": [
      "context.setPositions(np.random.randn(N_PARTICLES, 3))\n",
      "context.setVelocities(np.zeros((N_PARTICLES, 3)))\n",
      "\n",
      "for i in range(10):\n",
      "    integrator.step(10)\n",
      "    state = context.getState(getEnergy=True)\n",
      "    print state.getPotentialEnergy()"
     ],
     "language": "python",
     "metadata": {},
     "outputs": [
      {
       "output_type": "stream",
       "stream": "stdout",
       "text": [
        "156.376487732 kJ/mol\n",
        "153.532646179 kJ/mol\n",
        "149.228919983 kJ/mol\n",
        "143.885364532 kJ/mol\n",
        "137.912307739 kJ/mol\n",
        "131.648445129 kJ/mol\n",
        "125.341999054 kJ/mol\n",
        "119.159023285 kJ/mol\n",
        "113.202007294 kJ/mol\n",
        "107.528697968 kJ/mol\n"
       ]
      }
     ],
     "prompt_number": 7
    }
   ],
   "metadata": {}
  }
 ]
}