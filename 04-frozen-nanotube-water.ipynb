{
 "metadata": {
  "name": ""
 },
 "nbformat": 3,
 "nbformat_minor": 0,
 "worksheets": [
  {
   "cells": [
    {
     "cell_type": "code",
     "collapsed": false,
     "input": [
      "import sys\n",
      "import warnings\n",
      "import simtk.openmm as mm\n",
      "from simtk.openmm import app\n",
      "from simtk import unit"
     ],
     "language": "python",
     "metadata": {},
     "outputs": [],
     "prompt_number": 1
    },
    {
     "cell_type": "code",
     "collapsed": false,
     "input": [
      "# Parameters from Walther, J. H., et al. \"Molecular dynamics simulations of carbon\n",
      "# nanotubes in water.\" Center for turbulence research: proceedings of the summer\n",
      "# program, (2000): 5-20.\n",
      "CARBON_LJ_SIGMA = 3.191 * unit.angstrom\n",
      "CARBON_LJ_EPSILON = 0.4396 * unit.kilojoules_per_mole\n",
      "\n",
      "with warnings.catch_warnings():\n",
      "    warnings.simplefilter('ignore')\n",
      "    pdb = app.PDBFile('04-nanotube-input.pdb')\n",
      "\n",
      "# Use modeller to remove the non-water atoms from the PDB\n",
      "modeller = app.Modeller(pdb.topology, pdb.positions)\n",
      "modeller.delete([r for r in modeller.topology.residues() if r.name != 'HOH'])\n",
      "# and now make a system for just the water using tip3p\n",
      "system = app.ForceField('tip3p.xml').createSystem(modeller.topology, nonbondedMethod=app.PME, nonbondedCutoff=1*unit.nanometer)\n",
      "initialPositions = modeller.positions\n",
      "\n",
      "# get the nonbonded force from the newly created system\n",
      "nbforce = [system.getForce(i) for i in range(system.getNumForces()) if isinstance(system.getForce(i), mm.NonbondedForce)][0]\n",
      "\n",
      "# add the carbon nanotube back to the topology as a new residue named \"CNT\"\n",
      "topology = modeller.topology\n",
      "cntReside = topology.addResidue('CNT', topology.addChain())\n",
      "\n",
      "# now iterate though all the carbon atoms from the original pdb topology\n",
      "for i, atom in enumerate(pdb.topology.atoms()):\n",
      "    if atom.element.symbol == 'C':\n",
      "        # and add them back to the system with zero mass. This freezes\n",
      "        # the carbon atoms in place. They'll just stand still in the\n",
      "        # simulation.\n",
      "        index = system.addParticle(0)\n",
      "        # we'll give them no charge, but a little LJ \n",
      "        nbforce.addParticle(0.0, CARBON_LJ_SIGMA, CARBON_LJ_EPSILON)\n",
      "        initialPositions.append(pdb.positions[i])\n",
      "        topology.addAtom('C', atom.element, cntReside)"
     ],
     "language": "python",
     "metadata": {},
     "outputs": [],
     "prompt_number": 2
    },
    {
     "cell_type": "code",
     "collapsed": false,
     "input": [
      "totalSteps = 100000    # 200 picoseconds\n",
      "reportInterval = 1000  #   2 picoseconds\n",
      "\n",
      "# translate the center of the box (looks better in VMD)\n",
      "for i in range(len(initialPositions)):\n",
      "    initialPositions[i] += topology.getUnitCellDimensions() / 2\n",
      "\n",
      "# set up our simulation\n",
      "simulation = app.Simulation(topology, system, mm.LangevinIntegrator(300*unit.kelvin, 1/unit.picosecond, 2*unit.femtosecond))\n",
      "simulation.context.setPositions(initialPositions)\n",
      "simulation.context.setVelocitiesToTemperature(300*unit.kelvin)\n",
      "\n",
      "# write the first frame of the simulation to pdb\n",
      "with open('nanotube-simulation.pdb', 'w') as f:\n",
      "    app.PDBFile.writeFile(simulation.topology, simulation.context.getState(getPositions=True).getPositions(), f)\n",
      "# and then attach reporters\n",
      "simulation.reporters.append(app.DCDReporter('nanotube-simulation.dcd', reportInterval))\n",
      "simulation.reporters.append(app.StateDataReporter(sys.stdout, reportInterval, step=True, time=True,\n",
      "    remainingTime=True, separator='\\t', temperature=True, speed=True, totalSteps=totalSteps))\n",
      "\n",
      "# and roll.\n",
      "simulation.step(totalSteps)"
     ],
     "language": "python",
     "metadata": {},
     "outputs": [
      {
       "output_type": "stream",
       "stream": "stdout",
       "text": [
        "#\"Step\"\t\"Time (ps)\"\t\"Temperature (K)\"\t\"Speed (ns/day)\"\t\"Time Remaining\"\n"
       ]
      },
      {
       "output_type": "stream",
       "stream": "stdout",
       "text": [
        "1000\t2.0\t487.987494077\t0\t--\n"
       ]
      },
      {
       "output_type": "stream",
       "stream": "stdout",
       "text": [
        "2000\t4.0\t357.420745452\t257\t1:05\n"
       ]
      },
      {
       "output_type": "stream",
       "stream": "stdout",
       "text": [
        "3000\t6.0\t308.05365382\t257\t1:05\n"
       ]
      },
      {
       "output_type": "stream",
       "stream": "stdout",
       "text": [
        "4000\t8.0\t319.500745796\t257\t1:04\n"
       ]
      },
      {
       "output_type": "stream",
       "stream": "stdout",
       "text": [
        "5000\t10.0\t293.894438389\t256\t1:04\n"
       ]
      },
      {
       "output_type": "stream",
       "stream": "stdout",
       "text": [
        "6000\t12.0\t301.080799064\t255\t1:03\n"
       ]
      },
      {
       "output_type": "stream",
       "stream": "stdout",
       "text": [
        "7000\t14.0\t310.948865244\t255\t1:03\n"
       ]
      },
      {
       "output_type": "stream",
       "stream": "stdout",
       "text": [
        "8000\t16.0\t307.765403153\t254\t1:02\n"
       ]
      },
      {
       "output_type": "stream",
       "stream": "stdout",
       "text": [
        "9000\t18.0\t302.650415263\t255\t1:01\n"
       ]
      },
      {
       "output_type": "stream",
       "stream": "stdout",
       "text": [
        "10000\t20.0\t304.805679508\t255\t1:01\n"
       ]
      },
      {
       "output_type": "stream",
       "stream": "stdout",
       "text": [
        "11000\t22.0\t294.838490696\t255\t1:00\n"
       ]
      },
      {
       "output_type": "stream",
       "stream": "stdout",
       "text": [
        "12000\t24.0\t310.374418597\t255\t0:59\n"
       ]
      },
      {
       "output_type": "stream",
       "stream": "stdout",
       "text": [
        "13000\t26.0\t300.802588048\t255\t0:58\n"
       ]
      },
      {
       "output_type": "stream",
       "stream": "stdout",
       "text": [
        "14000\t28.0\t296.700354312\t255\t0:58\n"
       ]
      },
      {
       "output_type": "stream",
       "stream": "stdout",
       "text": [
        "15000\t30.0\t295.307265853\t255\t0:57\n"
       ]
      },
      {
       "output_type": "stream",
       "stream": "stdout",
       "text": [
        "16000\t32.0\t296.119434238\t255\t0:56\n"
       ]
      },
      {
       "output_type": "stream",
       "stream": "stdout",
       "text": [
        "17000\t34.0\t293.489350443\t255\t0:56\n"
       ]
      },
      {
       "output_type": "stream",
       "stream": "stdout",
       "text": [
        "18000\t36.0\t282.946455886\t255\t0:55\n"
       ]
      },
      {
       "output_type": "stream",
       "stream": "stdout",
       "text": [
        "19000\t38.0\t296.076877543\t255\t0:54\n"
       ]
      },
      {
       "output_type": "stream",
       "stream": "stdout",
       "text": [
        "20000\t40.0\t304.831627347\t255\t0:54\n"
       ]
      },
      {
       "output_type": "stream",
       "stream": "stdout",
       "text": [
        "21000\t42.0\t297.959218194\t255\t0:53\n"
       ]
      },
      {
       "output_type": "stream",
       "stream": "stdout",
       "text": [
        "22000\t44.0\t321.31210389\t256\t0:52\n"
       ]
      },
      {
       "output_type": "stream",
       "stream": "stdout",
       "text": [
        "23000\t46.0\t312.158418107\t256\t0:52\n"
       ]
      },
      {
       "output_type": "stream",
       "stream": "stdout",
       "text": [
        "24000\t48.0\t302.077547245\t256\t0:51\n"
       ]
      },
      {
       "output_type": "stream",
       "stream": "stdout",
       "text": [
        "25000\t50.0\t305.436995153\t256\t0:50\n"
       ]
      },
      {
       "output_type": "stream",
       "stream": "stdout",
       "text": [
        "26000\t52.0\t297.323567892\t256\t0:50\n"
       ]
      },
      {
       "output_type": "stream",
       "stream": "stdout",
       "text": [
        "27000\t54.0\t302.655175566\t256\t0:49\n"
       ]
      },
      {
       "output_type": "stream",
       "stream": "stdout",
       "text": [
        "28000\t56.0\t308.377683916\t256\t0:48\n"
       ]
      },
      {
       "output_type": "stream",
       "stream": "stdout",
       "text": [
        "29000\t58.0\t303.088325759\t256\t0:48\n"
       ]
      },
      {
       "output_type": "stream",
       "stream": "stdout",
       "text": [
        "30000\t60.0\t284.611929039\t256\t0:47\n"
       ]
      },
      {
       "output_type": "stream",
       "stream": "stdout",
       "text": [
        "31000\t62.0\t288.297989049\t256\t0:46\n"
       ]
      },
      {
       "output_type": "stream",
       "stream": "stdout",
       "text": [
        "32000\t64.0\t283.478706278\t256\t0:45\n"
       ]
      },
      {
       "output_type": "stream",
       "stream": "stdout",
       "text": [
        "33000\t66.0\t295.130225102\t256\t0:45\n"
       ]
      },
      {
       "output_type": "stream",
       "stream": "stdout",
       "text": [
        "34000\t68.0\t286.653824879\t256\t0:44\n"
       ]
      },
      {
       "output_type": "stream",
       "stream": "stdout",
       "text": [
        "35000\t70.0\t309.918303103\t256\t0:43\n"
       ]
      },
      {
       "output_type": "stream",
       "stream": "stdout",
       "text": [
        "36000\t72.0\t291.744661914\t256\t0:43\n"
       ]
      },
      {
       "output_type": "stream",
       "stream": "stdout",
       "text": [
        "37000\t74.0\t312.068939559\t255\t0:42\n"
       ]
      },
      {
       "output_type": "stream",
       "stream": "stdout",
       "text": [
        "38000\t76.0\t290.574163172\t255\t0:41\n"
       ]
      },
      {
       "output_type": "stream",
       "stream": "stdout",
       "text": [
        "39000\t78.0\t298.103499821\t255\t0:41\n"
       ]
      },
      {
       "output_type": "stream",
       "stream": "stdout",
       "text": [
        "40000\t80.0\t305.290808591\t255\t0:40\n"
       ]
      },
      {
       "output_type": "stream",
       "stream": "stdout",
       "text": [
        "41000\t82.0\t300.688519491\t256\t0:39\n"
       ]
      },
      {
       "output_type": "stream",
       "stream": "stdout",
       "text": [
        "42000\t84.0\t286.713939475\t256\t0:39\n"
       ]
      },
      {
       "output_type": "stream",
       "stream": "stdout",
       "text": [
        "43000\t86.0\t324.543581669\t256\t0:38\n"
       ]
      },
      {
       "output_type": "stream",
       "stream": "stdout",
       "text": [
        "44000\t88.0\t322.00452475\t256\t0:37\n"
       ]
      },
      {
       "output_type": "stream",
       "stream": "stdout",
       "text": [
        "45000\t90.0\t303.820493159\t255\t0:37\n"
       ]
      },
      {
       "output_type": "stream",
       "stream": "stdout",
       "text": [
        "46000\t92.0\t292.427581169\t255\t0:36\n"
       ]
      },
      {
       "output_type": "stream",
       "stream": "stdout",
       "text": [
        "47000\t94.0\t292.914920944\t255\t0:35\n"
       ]
      },
      {
       "output_type": "stream",
       "stream": "stdout",
       "text": [
        "48000\t96.0\t299.377402469\t255\t0:35\n"
       ]
      },
      {
       "output_type": "stream",
       "stream": "stdout",
       "text": [
        "49000\t98.0\t296.743999297\t256\t0:34\n"
       ]
      },
      {
       "output_type": "stream",
       "stream": "stdout",
       "text": [
        "50000\t99.9999999999\t303.203641318\t256\t0:33\n"
       ]
      },
      {
       "output_type": "stream",
       "stream": "stdout",
       "text": [
        "51000\t102.0\t297.643546736\t256\t0:33\n"
       ]
      },
      {
       "output_type": "stream",
       "stream": "stdout",
       "text": [
        "52000\t104.0\t293.718019725\t256\t0:32\n"
       ]
      },
      {
       "output_type": "stream",
       "stream": "stdout",
       "text": [
        "53000\t106.0\t313.950795878\t255\t0:31\n"
       ]
      },
      {
       "output_type": "stream",
       "stream": "stdout",
       "text": [
        "54000\t108.0\t299.674532108\t255\t0:31\n"
       ]
      },
      {
       "output_type": "stream",
       "stream": "stdout",
       "text": [
        "55000\t110.0\t306.275319921\t255\t0:30\n"
       ]
      },
      {
       "output_type": "stream",
       "stream": "stdout",
       "text": [
        "56000\t112.0\t293.709466454\t255\t0:29\n"
       ]
      },
      {
       "output_type": "stream",
       "stream": "stdout",
       "text": [
        "57000\t114.0\t314.668181283\t255\t0:29\n"
       ]
      },
      {
       "output_type": "stream",
       "stream": "stdout",
       "text": [
        "58000\t116.0\t291.348303238\t255\t0:28\n"
       ]
      },
      {
       "output_type": "stream",
       "stream": "stdout",
       "text": [
        "59000\t118.0\t306.627825662\t255\t0:27\n"
       ]
      },
      {
       "output_type": "stream",
       "stream": "stdout",
       "text": [
        "60000\t120.0\t305.319693548\t255\t0:27\n"
       ]
      },
      {
       "output_type": "stream",
       "stream": "stdout",
       "text": [
        "61000\t122.0\t311.555212044\t255\t0:26\n"
       ]
      },
      {
       "output_type": "stream",
       "stream": "stdout",
       "text": [
        "62000\t124.0\t308.499301785\t255\t0:25\n"
       ]
      },
      {
       "output_type": "stream",
       "stream": "stdout",
       "text": [
        "63000\t126.0\t300.339848451\t255\t0:25\n"
       ]
      },
      {
       "output_type": "stream",
       "stream": "stdout",
       "text": [
        "64000\t128.0\t317.796954398\t255\t0:24\n"
       ]
      },
      {
       "output_type": "stream",
       "stream": "stdout",
       "text": [
        "65000\t130.0\t299.349716673\t255\t0:23\n"
       ]
      },
      {
       "output_type": "stream",
       "stream": "stdout",
       "text": [
        "66000\t132.0\t308.216770798\t255\t0:23\n"
       ]
      },
      {
       "output_type": "stream",
       "stream": "stdout",
       "text": [
        "67000\t134.0\t296.627442085\t255\t0:22\n"
       ]
      },
      {
       "output_type": "stream",
       "stream": "stdout",
       "text": [
        "68000\t136.0\t303.083952123\t255\t0:21\n"
       ]
      },
      {
       "output_type": "stream",
       "stream": "stdout",
       "text": [
        "69000\t138.0\t309.351169251\t255\t0:21\n"
       ]
      },
      {
       "output_type": "stream",
       "stream": "stdout",
       "text": [
        "70000\t140.0\t289.371084118\t255\t0:20\n"
       ]
      },
      {
       "output_type": "stream",
       "stream": "stdout",
       "text": [
        "71000\t142.0\t302.075808804\t255\t0:19\n"
       ]
      },
      {
       "output_type": "stream",
       "stream": "stdout",
       "text": [
        "72000\t144.0\t295.128431173\t255\t0:18\n"
       ]
      },
      {
       "output_type": "stream",
       "stream": "stdout",
       "text": [
        "73000\t146.0\t306.287846024\t255\t0:18\n"
       ]
      },
      {
       "output_type": "stream",
       "stream": "stdout",
       "text": [
        "74000\t148.0\t309.278884046\t255\t0:17\n"
       ]
      },
      {
       "output_type": "stream",
       "stream": "stdout",
       "text": [
        "75000\t150.0\t307.435083718\t255\t0:16\n"
       ]
      },
      {
       "output_type": "stream",
       "stream": "stdout",
       "text": [
        "76000\t152.0\t302.588928022\t255\t0:16\n"
       ]
      },
      {
       "output_type": "stream",
       "stream": "stdout",
       "text": [
        "77000\t154.0\t284.26431185\t255\t0:15\n"
       ]
      },
      {
       "output_type": "stream",
       "stream": "stdout",
       "text": [
        "78000\t156.0\t286.600094832\t255\t0:14\n"
       ]
      },
      {
       "output_type": "stream",
       "stream": "stdout",
       "text": [
        "79000\t158.0\t298.722242301\t255\t0:14\n"
       ]
      },
      {
       "output_type": "stream",
       "stream": "stdout",
       "text": [
        "80000\t160.0\t312.524278007\t255\t0:13\n"
       ]
      },
      {
       "output_type": "stream",
       "stream": "stdout",
       "text": [
        "81000\t162.0\t288.532317408\t255\t0:12\n"
       ]
      },
      {
       "output_type": "stream",
       "stream": "stdout",
       "text": [
        "82000\t164.0\t311.714008112\t255\t0:12\n"
       ]
      },
      {
       "output_type": "stream",
       "stream": "stdout",
       "text": [
        "83000\t166.0\t312.352242718\t255\t0:11\n"
       ]
      },
      {
       "output_type": "stream",
       "stream": "stdout",
       "text": [
        "84000\t168.0\t296.204101945\t255\t0:10\n"
       ]
      },
      {
       "output_type": "stream",
       "stream": "stdout",
       "text": [
        "85000\t170.0\t313.090484569\t255\t0:10\n"
       ]
      },
      {
       "output_type": "stream",
       "stream": "stdout",
       "text": [
        "86000\t172.0\t298.193547877\t255\t0:09\n"
       ]
      },
      {
       "output_type": "stream",
       "stream": "stdout",
       "text": [
        "87000\t174.0\t297.49275318\t255\t0:08\n"
       ]
      },
      {
       "output_type": "stream",
       "stream": "stdout",
       "text": [
        "88000\t176.0\t307.210156399\t255\t0:08\n"
       ]
      },
      {
       "output_type": "stream",
       "stream": "stdout",
       "text": [
        "89000\t178.0\t295.392446535\t255\t0:07\n"
       ]
      },
      {
       "output_type": "stream",
       "stream": "stdout",
       "text": [
        "90000\t180.0\t294.23406572\t255\t0:06\n"
       ]
      },
      {
       "output_type": "stream",
       "stream": "stdout",
       "text": [
        "91000\t182.0\t317.272963138\t255\t0:06\n"
       ]
      },
      {
       "output_type": "stream",
       "stream": "stdout",
       "text": [
        "92000\t184.0\t312.412998773\t255\t0:05\n"
       ]
      },
      {
       "output_type": "stream",
       "stream": "stdout",
       "text": [
        "93000\t186.0\t290.701264865\t255\t0:04\n"
       ]
      },
      {
       "output_type": "stream",
       "stream": "stdout",
       "text": [
        "94000\t188.0\t308.933957419\t254\t0:04\n"
       ]
      },
      {
       "output_type": "stream",
       "stream": "stdout",
       "text": [
        "95000\t190.0\t305.583958019\t254\t0:03\n"
       ]
      },
      {
       "output_type": "stream",
       "stream": "stdout",
       "text": [
        "96000\t192.0\t310.446224968\t254\t0:02\n"
       ]
      },
      {
       "output_type": "stream",
       "stream": "stdout",
       "text": [
        "97000\t194.0\t297.386872871\t254\t0:02\n"
       ]
      },
      {
       "output_type": "stream",
       "stream": "stdout",
       "text": [
        "98000\t196.0\t309.416573594\t254\t0:01\n"
       ]
      },
      {
       "output_type": "stream",
       "stream": "stdout",
       "text": [
        "99000\t198.0\t289.602514752\t254\t0:00\n"
       ]
      },
      {
       "output_type": "stream",
       "stream": "stdout",
       "text": [
        "100000\t200.0\t266.420975813\t254\t0:00\n"
       ]
      }
     ],
     "prompt_number": 3
    },
    {
     "cell_type": "code",
     "collapsed": false,
     "input": [],
     "language": "python",
     "metadata": {},
     "outputs": [],
     "prompt_number": 3
    }
   ],
   "metadata": {}
  }
 ]
}