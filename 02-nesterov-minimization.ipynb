{
 "metadata": {
  "name": ""
 },
 "nbformat": 3,
 "nbformat_minor": 0,
 "worksheets": [
  {
   "cells": [
    {
     "cell_type": "markdown",
     "metadata": {},
     "source": [
      "### Nesterov Gradient Descent in OpenMM\n",
      "\n",
      "Nesterov's accelerated gradient descent is an an \"optimal\" first minimizer, in that\n",
      "it has $1/k^2$ convergence after $k$ steps, whereas standard gradient descent, even\n",
      "with fancy step sizes has $1/k$. The convergence rate of $1/k^2$ is optimal for\n",
      "first-order methods. Here's a nice blog [post](http://blogs.princeton.edu/imabandit/2013/04/01/acceleratedgradientdescent/)\n",
      "about the algorithm."
     ]
    },
    {
     "cell_type": "code",
     "collapsed": false,
     "input": [
      "import os\n",
      "import time\n",
      "from pprint import pformat\n",
      "import simtk.openmm as mm\n",
      "from simtk.openmm import app\n",
      "from simtk.unit import *"
     ],
     "language": "python",
     "metadata": {},
     "outputs": [],
     "prompt_number": 1
    },
    {
     "cell_type": "code",
     "collapsed": false,
     "input": [
      "# set up a generic Minimizer that runs a minimization and\n",
      "# gives a nice report with timing information.\n",
      "\n",
      "class BaseMinimizer(object):\n",
      "    def __init__(self):\n",
      "        # should set self.context (in the subclass)\n",
      "        pass\n",
      "    \n",
      "    def minimize(self):\n",
      "        # should do the minimization (in the subclass)\n",
      "        pass\n",
      "\n",
      "    def benchmark(self):\n",
      "        initialEnergy = self.context.getState(getEnergy=True)\\\n",
      "            .getPotentialEnergy().value_in_unit(kilojoule_per_mole)\n",
      "        startTime = time.time()\n",
      "        self.minimize()\n",
      "        endTime = time.time()\n",
      "        finalEnergy = self.context.getState(getEnergy=True)\\\n",
      "            .getPotentialEnergy().value_in_unit(kilojoule_per_mole)\n",
      "\n",
      "        reportLines = [\n",
      "            '{name} with {platform} platform and {numParticles:d} particles',\n",
      "            '  ({details})',\n",
      "            '  initial energy = {initial:>{width}.4f} kJ/mol',\n",
      "            '  final energy   = {final:>{width}.4f} kJ/mol',\n",
      "            '  elapsed time   = {time:.4f} s',\n",
      "            '',\n",
      "        ]\n",
      "        \n",
      "        platform = self.context.getPlatform()\n",
      "        properties = {k: platform.getPropertyValue(self.context, k) for k in platform.getPropertyNames()}\n",
      "        deviceNames = [v for k, v in properties.items() if 'DeviceName' in k]\n",
      "        \n",
      "        report = os.linesep.join(reportLines).format(\n",
      "            name = self.__class__.__name__, width=12,\n",
      "            details=('device = ' + deviceNames[0] if len(deviceNames) > 0 else ''),\n",
      "            numParticles=self.context.getSystem().getNumParticles(),\n",
      "            platform=self.context.getPlatform().getName(),\n",
      "            initial=initialEnergy, final=finalEnergy, time=(endTime-startTime))\n",
      "        return report"
     ],
     "language": "python",
     "metadata": {},
     "outputs": [],
     "prompt_number": 2
    },
    {
     "cell_type": "markdown",
     "metadata": {},
     "source": [
      "We start with the minimizer that's build into OpenMM, which uses [L-BFGS](http://en.wikipedia.org/wiki/Limited-memory_BFGS)"
     ]
    },
    {
     "cell_type": "code",
     "collapsed": false,
     "input": [
      "class BFGSMinimizer(BaseMinimizer):\n",
      "    def __init__(self, system, initialPositions, tolerance=1*kilojoules_per_mole, maxIterations=0):\n",
      "        self.context = mm.Context(system, mm.VerletIntegrator(0))\n",
      "        self.context.setPositions(initialPositions)\n",
      "        self.tolerance = tolerance\n",
      "        self.maxIterations = maxIterations\n",
      "\n",
      "    def minimize(self):\n",
      "        mm.LocalEnergyMinimizer.minimize(self.context, self.tolerance, self.maxIterations)"
     ],
     "language": "python",
     "metadata": {},
     "outputs": [],
     "prompt_number": 3
    },
    {
     "cell_type": "markdown",
     "metadata": {},
     "source": [
      "Now, let's try to implement a different minimizer with Nesterov's accelerated gradient descent.\n",
      "OpenMM's custom integrators are really flexible (!), so we can actually implement the method\n",
      "entirely in python and OpenMM will create GPU kernels to execute it for us."
     ]
    },
    {
     "cell_type": "code",
     "collapsed": false,
     "input": [
      "class NesterovMinimizer(BaseMinimizer):\n",
      "    \"\"\"Local energy minimzation with Nesterov's accelerated gradient descent\n",
      "    \n",
      "    Parameters\n",
      "    ----------\n",
      "    system : mm.System\n",
      "        The OpenMM system to minimize\n",
      "    initialPositions : 2d array\n",
      "        The positions to start from\n",
      "    numIterations : int\n",
      "        The number of iterations of minimization to run\n",
      "    stepSize : int\n",
      "        The step size. This isn't in time units.\n",
      "    \"\"\"\n",
      "    def __init__(self, system, initialPositions, numIterations=1000, stepSize=1e-6):\n",
      "        self.numIterations = numIterations\n",
      "\n",
      "        integrator = mm.CustomIntegrator(stepSize)\n",
      "        integrator.addGlobalVariable('a_cur', 0)\n",
      "        integrator.addGlobalVariable('a_old', 0)\n",
      "        integrator.addPerDofVariable('y_cur', 0)\n",
      "        integrator.addPerDofVariable('y_old', 0)\n",
      "        integrator.addComputeGlobal('a_cur', '0.5*(1+sqrt(1+(4*a_old*a_old)))')\n",
      "        integrator.addComputeGlobal('a_old', 'a_cur')\n",
      "        integrator.addComputePerDof('y_cur', 'x + dt*f')\n",
      "        integrator.addComputePerDof('y_old', 'y_cur')\n",
      "        integrator.addComputePerDof('x', 'y_cur + (a_old - 1) / a_cur * (y_cur - y_old)')\n",
      "\n",
      "        self.context = mm.Context(system, integrator)\n",
      "        self.context.setPositions(initialPositions)\n",
      "\n",
      "    def minimize(self):\n",
      "        self.context.getIntegrator().step(self.numIterations)"
     ],
     "language": "python",
     "metadata": {},
     "outputs": [],
     "prompt_number": 4
    },
    {
     "cell_type": "markdown",
     "metadata": {},
     "source": [
      "Let's get some files from the RCSB to test these minimizers."
     ]
    },
    {
     "cell_type": "code",
     "collapsed": false,
     "input": [
      "import gzip\n",
      "from io import BytesIO\n",
      "from six.moves.urllib.request import urlopen\n",
      "from pdbfixer.pdbfixer import PDBFixer\n",
      "from simtk.openmm.app.internal.pdbstructure import PdbStructure\n",
      "\n",
      "def downloadFromRCSB(PDB_ID):\n",
      "    \"Download a PDB from the RCSB, run PDBFixer, and return a topology and positions\"\n",
      "    url = \"ftp://ftp.wwpdb.org/pub/pdb/data/structures/all/pdb/pdb\"+PDB_ID.lower()+\".ent.gz\"\n",
      "    response = urlopen(url)\n",
      "    content = gzip.GzipFile(fileobj=BytesIO(response.read())).read()\n",
      "    pdb = PdbStructure(content.decode().splitlines())\n",
      "    fixer = PDBFixer(pdb)\n",
      "    fixer.findMissingResidues()\n",
      "    fixer.findNonstandardResidues()\n",
      "    fixer.replaceNonstandardResidues()\n",
      "    fixer.findMissingAtoms()\n",
      "    fixer.addMissingAtoms()\n",
      "    fixer.removeHeterogens(False)\n",
      "    fixer.addMissingHydrogens(7.0)\n",
      "\n",
      "    return fixer.topology, fixer.positions"
     ],
     "language": "python",
     "metadata": {},
     "outputs": [],
     "prompt_number": 5
    },
    {
     "cell_type": "markdown",
     "metadata": {},
     "source": [
      "I guess it's time to test these out... How about [2POR](http://www.pdb.org/pdb/explore/explore.do;jsessionid=CD0FFDDC9E108A04E10997264D5E8F0B?structureId=2POR)?"
     ]
    },
    {
     "cell_type": "code",
     "collapsed": false,
     "input": [
      "for code in ['2EQQ', '2POR']:\n",
      "    topology, positions = downloadFromRCSB(code)\n",
      "    system = app.ForceField('amber99sbildn.xml').createSystem(topology)\n",
      "\n",
      "    print('PDB_ID {}:'.format(code))\n",
      "    print(NesterovMinimizer(system, positions, stepSize=1e-6, numIterations=500).benchmark())\n",
      "    print(BFGSMinimizer(system, positions, maxIterations=500).benchmark())\n",
      "    print('')"
     ],
     "language": "python",
     "metadata": {},
     "outputs": [
      {
       "output_type": "stream",
       "stream": "stdout",
       "text": [
        "PDB_ID 2EQQ:\n",
        "NesterovMinimizer with CUDA platform and 423 particles\n",
        "  (device = GeForce GTX 660)\n",
        "  initial energy =    -353.2573 kJ/mol\n",
        "  final energy   =   -2891.6297 kJ/mol\n",
        "  elapsed time   = 0.0181 s\n"
       ]
      },
      {
       "output_type": "stream",
       "stream": "stdout",
       "text": [
        "\n",
        "BFGSMinimizer with CUDA platform and 423 particles\n",
        "  (device = GeForce GTX 660)\n",
        "  initial energy =    -353.2573 kJ/mol\n",
        "  final energy   =   -3328.7600 kJ/mol\n",
        "  elapsed time   = 0.4011 s\n"
       ]
      },
      {
       "output_type": "stream",
       "stream": "stdout",
       "text": [
        "\n",
        "\n",
        "PDB_ID 2POR:"
       ]
      },
      {
       "output_type": "stream",
       "stream": "stdout",
       "text": [
        "\n",
        "NesterovMinimizer with CUDA platform and 4291 particles\n",
        "  (device = GeForce GTX 660)\n",
        "  initial energy =  167722.4771 kJ/mol\n",
        "  final energy   =   16021.9786 kJ/mol\n",
        "  elapsed time   = 0.2871 s\n"
       ]
      },
      {
       "output_type": "stream",
       "stream": "stdout",
       "text": [
        "\n",
        "BFGSMinimizer with CUDA platform and 4291 particles\n",
        "  (device = GeForce GTX 660)\n",
        "  initial energy =  167722.4771 kJ/mol\n",
        "  final energy   =    5618.0848 kJ/mol\n",
        "  elapsed time   = 1.1622 s\n"
       ]
      },
      {
       "output_type": "stream",
       "stream": "stdout",
       "text": [
        "\n",
        "\n"
       ]
      }
     ],
     "prompt_number": 6
    },
    {
     "cell_type": "code",
     "collapsed": false,
     "input": [],
     "language": "python",
     "metadata": {},
     "outputs": [],
     "prompt_number": 6
    }
   ],
   "metadata": {}
  }
 ]
}